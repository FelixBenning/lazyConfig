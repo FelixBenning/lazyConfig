{
 "metadata": {
  "language_info": {
   "codemirror_mode": {
    "name": "ipython",
    "version": 3
   },
   "file_extension": ".py",
   "mimetype": "text/x-python",
   "name": "python",
   "nbconvert_exporter": "python",
   "pygments_lexer": "ipython3",
   "version": "3.8.5-final"
  },
  "orig_nbformat": 2,
  "kernelspec": {
   "name": "python_defaultSpec_1597912931840",
   "display_name": "Python 3.8.5 64-bit"
  }
 },
 "nbformat": 4,
 "nbformat_minor": 2,
 "cells": [
  {
   "cell_type": "code",
   "execution_count": 1,
   "metadata": {},
   "outputs": [],
   "source": [
    "import os\n",
    "import lazyConfig"
   ]
  },
  {
   "cell_type": "code",
   "execution_count": 2,
   "metadata": {
    "tags": []
   },
   "outputs": [
    {
     "output_type": "stream",
     "name": "stdout",
     "text": "LazyDict(path='../test_config_default')\nLazyDict(path=../test_config_default):\n    Loaded Dict: {'key1': 'value1', 'key2': 42, 'key3': {'2key1': '2value1'}}\n    Lazy Keys: ['2key2', '2key3', 'list']\n\n"
    }
   ],
   "source": [
    "d = lazyConfig.LazyDict('../test_config_default')\n",
    "print(repr(d))\n",
    "print(str(d))"
   ]
  },
  {
   "cell_type": "code",
   "execution_count": 3,
   "metadata": {
    "tags": []
   },
   "outputs": [
    {
     "output_type": "stream",
     "name": "stdout",
     "text": "('key1', 'value1')\n('key2', 42)\n('key3', {'2key1': '2value1'})\n('2key2', {'3key1': '3value1', '3key2': '3value2'})\n('2key3', LazyDict(path='../test_config_default/2key3'))\n('list', LazyList(path='../test_config_default/list', length=2))\n"
    }
   ],
   "source": [
    "for x in d.items():\n",
    "    print(repr(x))"
   ]
  },
  {
   "cell_type": "code",
   "execution_count": 3,
   "metadata": {},
   "outputs": [
    {
     "output_type": "execute_result",
     "data": {
      "text/plain": "['2key2', '2key3', 'key1', 'key2', 'key3', 'list']"
     },
     "metadata": {},
     "execution_count": 3
    }
   ],
   "source": [
    "cfg = lazyConfig.Config(lazyConfig.LazyDict('../test_config_default'), lazyConfig.LazyDict('../test_config'))\n",
    "cfg = lazyConfig.Config.from_path('../test_config_default','../test_config')\n",
    "dir(cfg)"
   ]
  },
  {
   "cell_type": "code",
   "execution_count": 5,
   "metadata": {
    "tags": []
   },
   "outputs": [
    {
     "output_type": "stream",
     "name": "stdout",
     "text": "attributes: ['3key3']\n"
    }
   ],
   "source": [
    "print(cfg['2key3'])"
   ]
  },
  {
   "cell_type": "code",
   "execution_count": 8,
   "metadata": {},
   "outputs": [
    {
     "output_type": "execute_result",
     "data": {
      "text/plain": "{'zeroKey': 'zeroValue'}"
     },
     "metadata": {},
     "execution_count": 8
    }
   ],
   "source": [
    "d['list'][0]"
   ]
  },
  {
   "cell_type": "code",
   "execution_count": 5,
   "metadata": {},
   "outputs": [],
   "source": [
    "a = {\"0>-1>-2\": 'vale'}"
   ]
  },
  {
   "cell_type": "code",
   "execution_count": 5,
   "metadata": {
    "tags": []
   },
   "outputs": [
    {
     "output_type": "execute_result",
     "data": {
      "text/plain": "[('0>-1>-2', 'vale')]"
     },
     "metadata": {},
     "execution_count": 5
    }
   ],
   "source": [
    "list(a.items())"
   ]
  },
  {
   "cell_type": "code",
   "execution_count": 7,
   "metadata": {},
   "outputs": [],
   "source": [
    "i = a.__iter__()"
   ]
  },
  {
   "cell_type": "code",
   "execution_count": 4,
   "metadata": {},
   "outputs": [],
   "source": [
    "class Test:\n",
    "    def __init__(self):\n",
    "        self.a = 1\n",
    "        self.b = 2\n",
    "    def __dir__(self):\n",
    "        return ['bla']"
   ]
  },
  {
   "cell_type": "code",
   "execution_count": 5,
   "metadata": {},
   "outputs": [
    {
     "output_type": "execute_result",
     "data": {
      "text/plain": "['bla']"
     },
     "metadata": {},
     "execution_count": 5
    }
   ],
   "source": [
    "dir(Test())"
   ]
  },
  {
   "cell_type": "code",
   "execution_count": null,
   "metadata": {},
   "outputs": [],
   "source": []
  }
 ]
}